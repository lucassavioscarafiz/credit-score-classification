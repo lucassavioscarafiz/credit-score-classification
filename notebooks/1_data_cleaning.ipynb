{
 "cells": [
  {
   "cell_type": "markdown",
   "metadata": {},
   "source": [
    "# Data Cleaning\n",
    "\n",
    "In this notebook the entire dataset will be prepared for the next steps of the modelling process.\n",
    "\n",
    "* 1) Change the feature types to object, if it's a categorical feature, or int32 if it's a nummerical feature\n",
    "* 2) Transform the Credit_History_Year feature by removing months and days, letting only the years\n",
    "* 3) Transfom the Age feature letting only age in a range: >18 and <120\n",
    "* 4) Target filter: The main goal of the model is to predict clients that will default. So the target must be 1 (bad) or 0 (good). The \"standard\" clients will be removed.\n",
    "* 5) Changing the feature names to lower cases"
   ]
  },
  {
   "cell_type": "markdown",
   "metadata": {},
   "source": [
    "# 1) Packages"
   ]
  },
  {
   "cell_type": "code",
   "execution_count": 1,
   "metadata": {},
   "outputs": [
    {
     "name": "stderr",
     "output_type": "stream",
     "text": [
      "C:\\Users\\lucas\\AppData\\Roaming\\Python\\Python310\\site-packages\\pandas\\core\\arrays\\masked.py:60: UserWarning: Pandas requires version '1.3.6' or newer of 'bottleneck' (version '1.3.5' currently installed).\n",
      "  from pandas.core import (\n"
     ]
    }
   ],
   "source": [
    "import pandas as pd\n",
    "import numpy as np\n",
    "import sys\n",
    "import os"
   ]
  },
  {
   "cell_type": "code",
   "execution_count": 2,
   "metadata": {},
   "outputs": [
    {
     "name": "stdout",
     "output_type": "stream",
     "text": [
      "c:\\Users\\lucas\\OneDrive\\Área de Trabalho\\Data Science Projects\\credit_scoring_project\\notebooks\n"
     ]
    }
   ],
   "source": [
    "print(os.getcwd())"
   ]
  },
  {
   "cell_type": "code",
   "execution_count": 3,
   "metadata": {},
   "outputs": [
    {
     "name": "stdout",
     "output_type": "stream",
     "text": [
      "Caminho para a pasta 'src': c:\\Users\\lucas\\OneDrive\\Área de Trabalho\\Data Science Projects\\credit_scoring_project\\src\n"
     ]
    }
   ],
   "source": [
    "# 'src' folder path\n",
    "project_root = os.path.abspath(os.path.join(os.getcwd(), '../src'))\n",
    "\n",
    "# verify the path\n",
    "print(\"Caminho para a pasta 'src':\", project_root)\n",
    "\n",
    "# add to the sys.path\n",
    "sys.path.append(project_root)"
   ]
  },
  {
   "cell_type": "markdown",
   "metadata": {},
   "source": [
    "# 2) Import the local packages and dataset"
   ]
  },
  {
   "cell_type": "code",
   "execution_count": 4,
   "metadata": {},
   "outputs": [],
   "source": [
    "import df_cleaning as dcl"
   ]
  },
  {
   "cell_type": "code",
   "execution_count": 5,
   "metadata": {},
   "outputs": [
    {
     "name": "stderr",
     "output_type": "stream",
     "text": [
      "C:\\Users\\lucas\\AppData\\Local\\Temp\\ipykernel_7076\\3253700651.py:1: DtypeWarning: Columns (26) have mixed types. Specify dtype option on import or set low_memory=False.\n",
      "  df = pd.read_csv('../data/train.csv')\n"
     ]
    }
   ],
   "source": [
    "df = pd.read_csv('../data/train.csv')"
   ]
  },
  {
   "cell_type": "markdown",
   "metadata": {},
   "source": [
    "# 3) Data cleaning"
   ]
  },
  {
   "cell_type": "markdown",
   "metadata": {},
   "source": [
    "## 3.1) Feature types"
   ]
  },
  {
   "cell_type": "code",
   "execution_count": 47,
   "metadata": {},
   "outputs": [],
   "source": [
    "feats_int = ['Age','Num_of_Loan','Num_of_Delayed_Payment']\n",
    "feats_float = ['Annual_Income','Changed_Credit_Limit','Num_Credit_Inquiries','Outstanding_Debt','Amount_invested_monthly','Monthly_Balance']\n",
    "\n",
    "feature_handler = dcl.FeatureTypes(df, feats_int, feats_float)\n",
    "df_transformed = feature_handler.feats_transform()"
   ]
  },
  {
   "cell_type": "code",
   "execution_count": 48,
   "metadata": {},
   "outputs": [
    {
     "data": {
      "text/plain": [
       "ID                           object\n",
       "Customer_ID                  object\n",
       "Month                        object\n",
       "Name                         object\n",
       "Age                          object\n",
       "SSN                          object\n",
       "Occupation                   object\n",
       "Annual_Income                object\n",
       "Monthly_Inhand_Salary       float64\n",
       "Num_Bank_Accounts             int64\n",
       "Num_Credit_Card               int64\n",
       "Interest_Rate                 int64\n",
       "Num_of_Loan                  object\n",
       "Type_of_Loan                 object\n",
       "Delay_from_due_date           int64\n",
       "Num_of_Delayed_Payment       object\n",
       "Changed_Credit_Limit         object\n",
       "Num_Credit_Inquiries        float64\n",
       "Credit_Mix                   object\n",
       "Outstanding_Debt             object\n",
       "Credit_Utilization_Ratio    float64\n",
       "Credit_History_Age           object\n",
       "Payment_of_Min_Amount        object\n",
       "Total_EMI_per_month         float64\n",
       "Amount_invested_monthly      object\n",
       "Payment_Behaviour            object\n",
       "Monthly_Balance              object\n",
       "Credit_Score                 object\n",
       "dtype: object"
      ]
     },
     "execution_count": 48,
     "metadata": {},
     "output_type": "execute_result"
    }
   ],
   "source": [
    "df.dtypes"
   ]
  },
  {
   "cell_type": "code",
   "execution_count": 49,
   "metadata": {},
   "outputs": [
    {
     "data": {
      "text/plain": [
       "ID                           object\n",
       "Customer_ID                  object\n",
       "Month                        object\n",
       "Name                         object\n",
       "Age                           int32\n",
       "SSN                          object\n",
       "Occupation                   object\n",
       "Annual_Income               float64\n",
       "Monthly_Inhand_Salary       float64\n",
       "Num_Bank_Accounts             int64\n",
       "Num_Credit_Card               int64\n",
       "Interest_Rate                 int64\n",
       "Num_of_Loan                   int32\n",
       "Type_of_Loan                 object\n",
       "Delay_from_due_date           int64\n",
       "Num_of_Delayed_Payment        int32\n",
       "Changed_Credit_Limit        float64\n",
       "Num_Credit_Inquiries        float64\n",
       "Credit_Mix                   object\n",
       "Outstanding_Debt            float64\n",
       "Credit_Utilization_Ratio    float64\n",
       "Credit_History_Age           object\n",
       "Payment_of_Min_Amount        object\n",
       "Total_EMI_per_month         float64\n",
       "Amount_invested_monthly     float64\n",
       "Payment_Behaviour            object\n",
       "Monthly_Balance             float64\n",
       "Credit_Score                 object\n",
       "dtype: object"
      ]
     },
     "execution_count": 49,
     "metadata": {},
     "output_type": "execute_result"
    }
   ],
   "source": [
    "df_transformed.dtypes"
   ]
  },
  {
   "cell_type": "markdown",
   "metadata": {},
   "source": [
    "## 3.2) Credit_History_Age"
   ]
  },
  {
   "cell_type": "code",
   "execution_count": 50,
   "metadata": {},
   "outputs": [],
   "source": [
    "df_transformed = dcl.credit_hist_transform(df_transformed)"
   ]
  },
  {
   "cell_type": "code",
   "execution_count": 51,
   "metadata": {},
   "outputs": [
    {
     "data": {
      "text/plain": [
       "array(['22 Years and 1 Months', nan, '22 Years and 3 Months',\n",
       "       '22 Years and 4 Months', '22 Years and 5 Months',\n",
       "       '22 Years and 6 Months', '22 Years and 7 Months',\n",
       "       '26 Years and 7 Months', '26 Years and 8 Months',\n",
       "       '26 Years and 9 Months', '26 Years and 10 Months',\n",
       "       '26 Years and 11 Months', '27 Years and 0 Months',\n",
       "       '27 Years and 1 Months', '27 Years and 2 Months',\n",
       "       '17 Years and 9 Months', '17 Years and 10 Months',\n",
       "       '17 Years and 11 Months', '18 Years and 1 Months',\n",
       "       '18 Years and 2 Months', '18 Years and 3 Months',\n",
       "       '18 Years and 4 Months', '17 Years and 3 Months',\n",
       "       '17 Years and 4 Months', '17 Years and 5 Months',\n",
       "       '17 Years and 6 Months', '17 Years and 7 Months',\n",
       "       '17 Years and 8 Months', '30 Years and 8 Months',\n",
       "       '30 Years and 9 Months', '30 Years and 10 Months',\n",
       "       '30 Years and 11 Months', '31 Years and 0 Months',\n",
       "       '31 Years and 1 Months', '31 Years and 2 Months',\n",
       "       '31 Years and 3 Months', '32 Years and 0 Months',\n",
       "       '32 Years and 2 Months', '32 Years and 3 Months',\n",
       "       '32 Years and 5 Months', '32 Years and 6 Months',\n",
       "       '30 Years and 7 Months', '14 Years and 8 Months',\n",
       "       '14 Years and 9 Months', '14 Years and 10 Months',\n",
       "       '14 Years and 11 Months', '15 Years and 0 Months',\n",
       "       '15 Years and 1 Months', '15 Years and 2 Months',\n",
       "       '21 Years and 4 Months', '21 Years and 5 Months',\n",
       "       '21 Years and 6 Months', '21 Years and 7 Months',\n",
       "       '21 Years and 8 Months', '21 Years and 9 Months',\n",
       "       '21 Years and 10 Months', '21 Years and 11 Months',\n",
       "       '26 Years and 6 Months', '19 Years and 2 Months',\n",
       "       '19 Years and 3 Months', '19 Years and 4 Months',\n",
       "       '19 Years and 5 Months', '19 Years and 6 Months',\n",
       "       '19 Years and 7 Months', '19 Years and 8 Months',\n",
       "       '25 Years and 5 Months', '25 Years and 6 Months',\n",
       "       '25 Years and 7 Months', '25 Years and 8 Months',\n",
       "       '25 Years and 9 Months', '25 Years and 10 Months',\n",
       "       '25 Years and 11 Months', '26 Years and 0 Months',\n",
       "       '27 Years and 3 Months', '27 Years and 4 Months',\n",
       "       '27 Years and 5 Months', '8 Years and 11 Months',\n",
       "       '9 Years and 0 Months', '9 Years and 1 Months',\n",
       "       '9 Years and 2 Months', '9 Years and 3 Months',\n",
       "       '9 Years and 4 Months', '9 Years and 6 Months',\n",
       "       '18 Years and 5 Months', '18 Years and 6 Months',\n",
       "       '18 Years and 8 Months', '18 Years and 9 Months',\n",
       "       '16 Years and 10 Months', '16 Years and 11 Months',\n",
       "       '17 Years and 0 Months', '17 Years and 1 Months',\n",
       "       '17 Years and 2 Months', '29 Years and 2 Months',\n",
       "       '29 Years and 3 Months', '29 Years and 4 Months',\n",
       "       '29 Years and 6 Months', '29 Years and 8 Months',\n",
       "       '29 Years and 9 Months', '6 Years and 5 Months',\n",
       "       '6 Years and 6 Months', '6 Years and 7 Months',\n",
       "       '6 Years and 8 Months', '6 Years and 9 Months',\n",
       "       '6 Years and 10 Months', '6 Years and 11 Months',\n",
       "       '7 Years and 0 Months', '27 Years and 6 Months',\n",
       "       '27 Years and 7 Months', '27 Years and 8 Months',\n",
       "       '27 Years and 9 Months', '18 Years and 7 Months',\n",
       "       '19 Years and 9 Months', '19 Years and 10 Months',\n",
       "       '10 Years and 1 Months', '10 Years and 2 Months',\n",
       "       '10 Years and 3 Months', '10 Years and 4 Months',\n",
       "       '10 Years and 5 Months', '10 Years and 6 Months',\n",
       "       '10 Years and 7 Months', '10 Years and 8 Months',\n",
       "       '32 Years and 9 Months', '32 Years and 10 Months',\n",
       "       '32 Years and 11 Months', '33 Years and 0 Months',\n",
       "       '33 Years and 1 Months', '33 Years and 4 Months',\n",
       "       '12 Years and 3 Months', '12 Years and 4 Months',\n",
       "       '12 Years and 5 Months', '12 Years and 6 Months',\n",
       "       '12 Years and 7 Months', '12 Years and 8 Months',\n",
       "       '12 Years and 10 Months', '12 Years and 9 Months',\n",
       "       '13 Years and 8 Months', '13 Years and 11 Months',\n",
       "       '14 Years and 0 Months', '14 Years and 1 Months',\n",
       "       '14 Years and 2 Months', '14 Years and 3 Months',\n",
       "       '30 Years and 3 Months', '30 Years and 4 Months',\n",
       "       '30 Years and 5 Months', '30 Years and 6 Months',\n",
       "       '8 Years and 9 Months', '8 Years and 10 Months',\n",
       "       '18 Years and 10 Months', '18 Years and 11 Months',\n",
       "       '19 Years and 0 Months', '19 Years and 1 Months',\n",
       "       '8 Years and 8 Months', '13 Years and 1 Months',\n",
       "       '13 Years and 2 Months', '13 Years and 3 Months',\n",
       "       '13 Years and 5 Months', '13 Years and 6 Months',\n",
       "       '13 Years and 7 Months', '22 Years and 0 Months',\n",
       "       '26 Years and 1 Months', '26 Years and 2 Months',\n",
       "       '13 Years and 4 Months', '13 Years and 9 Months',\n",
       "       '27 Years and 11 Months', '28 Years and 0 Months',\n",
       "       '28 Years and 1 Months', '28 Years and 2 Months',\n",
       "       '28 Years and 3 Months', '28 Years and 4 Months',\n",
       "       '28 Years and 5 Months', '28 Years and 6 Months',\n",
       "       '7 Years and 10 Months', '7 Years and 11 Months',\n",
       "       '8 Years and 0 Months', '8 Years and 1 Months',\n",
       "       '8 Years and 2 Months', '8 Years and 3 Months',\n",
       "       '8 Years and 4 Months', '8 Years and 5 Months',\n",
       "       '24 Years and 3 Months', '24 Years and 4 Months',\n",
       "       '24 Years and 5 Months', '24 Years and 6 Months',\n",
       "       '24 Years and 7 Months', '24 Years and 8 Months',\n",
       "       '24 Years and 9 Months', '1 Years and 2 Months',\n",
       "       '1 Years and 3 Months', '1 Years and 4 Months',\n",
       "       '1 Years and 5 Months', '1 Years and 6 Months',\n",
       "       '1 Years and 7 Months', '1 Years and 8 Months',\n",
       "       '10 Years and 11 Months', '11 Years and 0 Months',\n",
       "       '11 Years and 1 Months', '11 Years and 2 Months',\n",
       "       '11 Years and 3 Months', '11 Years and 4 Months',\n",
       "       '11 Years and 5 Months', '11 Years and 6 Months',\n",
       "       '19 Years and 11 Months', '20 Years and 0 Months',\n",
       "       '20 Years and 1 Months', '10 Years and 9 Months',\n",
       "       '10 Years and 10 Months', '14 Years and 4 Months',\n",
       "       '14 Years and 5 Months', '14 Years and 6 Months',\n",
       "       '20 Years and 8 Months', '20 Years and 9 Months',\n",
       "       '20 Years and 10 Months', '20 Years and 11 Months',\n",
       "       '21 Years and 0 Months', '21 Years and 1 Months',\n",
       "       '21 Years and 2 Months', '21 Years and 3 Months',\n",
       "       '0 Years and 4 Months', '0 Years and 5 Months',\n",
       "       '0 Years and 6 Months', '0 Years and 8 Months',\n",
       "       '0 Years and 9 Months', '0 Years and 10 Months',\n",
       "       '31 Years and 7 Months', '31 Years and 8 Months',\n",
       "       '31 Years and 9 Months', '31 Years and 10 Months',\n",
       "       '31 Years and 11 Months', '32 Years and 1 Months',\n",
       "       '12 Years and 11 Months', '13 Years and 0 Months',\n",
       "       '27 Years and 10 Months', '11 Years and 7 Months',\n",
       "       '11 Years and 8 Months', '11 Years and 9 Months',\n",
       "       '11 Years and 10 Months', '24 Years and 10 Months',\n",
       "       '24 Years and 11 Months', '25 Years and 0 Months',\n",
       "       '25 Years and 1 Months', '25 Years and 2 Months',\n",
       "       '25 Years and 3 Months', '18 Years and 0 Months',\n",
       "       '31 Years and 4 Months', '31 Years and 5 Months',\n",
       "       '31 Years and 6 Months', '5 Years and 2 Months',\n",
       "       '5 Years and 3 Months', '5 Years and 4 Months',\n",
       "       '5 Years and 5 Months', '5 Years and 6 Months',\n",
       "       '5 Years and 7 Months', '5 Years and 8 Months',\n",
       "       '5 Years and 9 Months', '2 Years and 11 Months',\n",
       "       '3 Years and 0 Months', '3 Years and 1 Months',\n",
       "       '3 Years and 2 Months', '3 Years and 3 Months',\n",
       "       '3 Years and 4 Months', '3 Years and 5 Months',\n",
       "       '3 Years and 6 Months', '16 Years and 4 Months',\n",
       "       '16 Years and 5 Months', '16 Years and 6 Months',\n",
       "       '16 Years and 7 Months', '16 Years and 8 Months',\n",
       "       '16 Years and 9 Months', '22 Years and 11 Months',\n",
       "       '23 Years and 0 Months', '23 Years and 2 Months',\n",
       "       '23 Years and 3 Months', '23 Years and 4 Months',\n",
       "       '23 Years and 5 Months', '23 Years and 6 Months',\n",
       "       '8 Years and 6 Months', '8 Years and 7 Months',\n",
       "       '4 Years and 5 Months', '4 Years and 6 Months',\n",
       "       '4 Years and 7 Months', '4 Years and 8 Months',\n",
       "       '4 Years and 9 Months', '4 Years and 10 Months',\n",
       "       '4 Years and 11 Months', '5 Years and 0 Months',\n",
       "       '32 Years and 8 Months', '33 Years and 2 Months',\n",
       "       '33 Years and 3 Months', '12 Years and 2 Months',\n",
       "       '32 Years and 4 Months', '29 Years and 11 Months',\n",
       "       '30 Years and 0 Months', '30 Years and 2 Months',\n",
       "       '26 Years and 3 Months', '26 Years and 4 Months',\n",
       "       '26 Years and 5 Months', '7 Years and 6 Months',\n",
       "       '7 Years and 7 Months', '7 Years and 8 Months',\n",
       "       '7 Years and 9 Months', '28 Years and 7 Months',\n",
       "       '28 Years and 8 Months', '28 Years and 9 Months',\n",
       "       '28 Years and 10 Months', '29 Years and 5 Months',\n",
       "       '29 Years and 7 Months', '20 Years and 2 Months',\n",
       "       '20 Years and 3 Months', '20 Years and 4 Months',\n",
       "       '20 Years and 5 Months', '20 Years and 6 Months',\n",
       "       '20 Years and 7 Months', '28 Years and 11 Months',\n",
       "       '29 Years and 0 Months', '13 Years and 10 Months',\n",
       "       '1 Years and 9 Months', '1 Years and 10 Months',\n",
       "       '1 Years and 11 Months', '33 Years and 5 Months',\n",
       "       '33 Years and 6 Months', '33 Years and 7 Months',\n",
       "       '33 Years and 8 Months', '29 Years and 1 Months',\n",
       "       '5 Years and 1 Months', '5 Years and 10 Months',\n",
       "       '5 Years and 11 Months', '6 Years and 0 Months',\n",
       "       '6 Years and 1 Months', '6 Years and 2 Months',\n",
       "       '6 Years and 3 Months', '22 Years and 9 Months',\n",
       "       '22 Years and 10 Months', '23 Years and 1 Months',\n",
       "       '22 Years and 2 Months', '15 Years and 4 Months',\n",
       "       '15 Years and 5 Months', '15 Years and 6 Months',\n",
       "       '15 Years and 7 Months', '15 Years and 8 Months',\n",
       "       '15 Years and 9 Months', '15 Years and 10 Months',\n",
       "       '15 Years and 11 Months', '2 Years and 3 Months',\n",
       "       '2 Years and 4 Months', '2 Years and 5 Months',\n",
       "       '2 Years and 6 Months', '2 Years and 7 Months',\n",
       "       '2 Years and 8 Months', '2 Years and 9 Months',\n",
       "       '2 Years and 10 Months', '2 Years and 0 Months',\n",
       "       '16 Years and 2 Months', '16 Years and 3 Months',\n",
       "       '22 Years and 8 Months', '9 Years and 5 Months',\n",
       "       '9 Years and 7 Months', '9 Years and 8 Months',\n",
       "       '9 Years and 9 Months', '11 Years and 11 Months',\n",
       "       '12 Years and 0 Months', '12 Years and 1 Months',\n",
       "       '24 Years and 2 Months', '16 Years and 0 Months',\n",
       "       '16 Years and 1 Months', '14 Years and 7 Months',\n",
       "       '25 Years and 4 Months', '15 Years and 3 Months',\n",
       "       '7 Years and 1 Months', '7 Years and 2 Months',\n",
       "       '7 Years and 3 Months', '7 Years and 4 Months',\n",
       "       '7 Years and 5 Months', '23 Years and 7 Months',\n",
       "       '23 Years and 8 Months', '23 Years and 9 Months',\n",
       "       '30 Years and 1 Months', '29 Years and 10 Months',\n",
       "       '9 Years and 10 Months', '9 Years and 11 Months',\n",
       "       '10 Years and 0 Months', '2 Years and 2 Months',\n",
       "       '23 Years and 10 Months', '23 Years and 11 Months',\n",
       "       '24 Years and 0 Months', '24 Years and 1 Months',\n",
       "       '6 Years and 4 Months', '0 Years and 1 Months',\n",
       "       '0 Years and 2 Months', '0 Years and 3 Months',\n",
       "       '0 Years and 7 Months', '3 Years and 8 Months',\n",
       "       '32 Years and 7 Months', '3 Years and 7 Months',\n",
       "       '3 Years and 9 Months', '3 Years and 10 Months',\n",
       "       '0 Years and 11 Months', '1 Years and 0 Months',\n",
       "       '1 Years and 1 Months', '4 Years and 4 Months',\n",
       "       '3 Years and 11 Months', '4 Years and 0 Months',\n",
       "       '4 Years and 1 Months', '4 Years and 2 Months',\n",
       "       '4 Years and 3 Months', '2 Years and 1 Months'], dtype=object)"
      ]
     },
     "execution_count": 51,
     "metadata": {},
     "output_type": "execute_result"
    }
   ],
   "source": [
    "df['Credit_History_Age'].unique()"
   ]
  },
  {
   "cell_type": "code",
   "execution_count": 52,
   "metadata": {},
   "outputs": [
    {
     "data": {
      "text/plain": [
       "array([22, -1, 26, 27, 17, 18, 30, 31, 32, 14, 15, 21, 19, 25,  8,  9, 16,\n",
       "       29,  6,  7, 10, 33, 12, 13, 28, 24,  1, 11, 20,  0,  5,  2,  3, 23,\n",
       "        4])"
      ]
     },
     "execution_count": 52,
     "metadata": {},
     "output_type": "execute_result"
    }
   ],
   "source": [
    "df_transformed['Credit_History_Year'].unique()"
   ]
  },
  {
   "cell_type": "markdown",
   "metadata": {},
   "source": [
    "## 3.3) Age"
   ]
  },
  {
   "cell_type": "code",
   "execution_count": 53,
   "metadata": {},
   "outputs": [],
   "source": [
    "df_transformed = dcl.age_transform(df_transformed)"
   ]
  },
  {
   "cell_type": "code",
   "execution_count": 54,
   "metadata": {},
   "outputs": [
    {
     "data": {
      "text/plain": [
       "array(['23', '-500', '28_', ..., '4808_', '2263', '1342'], dtype=object)"
      ]
     },
     "execution_count": 54,
     "metadata": {},
     "output_type": "execute_result"
    }
   ],
   "source": [
    "df['Age'].unique()"
   ]
  },
  {
   "cell_type": "code",
   "execution_count": 55,
   "metadata": {},
   "outputs": [
    {
     "data": {
      "text/plain": [
       "array([ 23,  -1,  28,  34,  54,  55,  21,  31,  33,  30,  24,  44,  45,\n",
       "        40,  41,  32,  35,  36,  39,  37,  20,  46,  26,  42,  19,  48,\n",
       "        38,  43,  22,  18,  27,  25,  47,  53,  56,  29,  49,  51,  50,\n",
       "        52, 112, 118,  99, 100, 102, 111,  95, 109, 115], dtype=int64)"
      ]
     },
     "execution_count": 55,
     "metadata": {},
     "output_type": "execute_result"
    }
   ],
   "source": [
    "df_transformed['Age'].unique()"
   ]
  },
  {
   "cell_type": "markdown",
   "metadata": {},
   "source": [
    "## 3.4) Target filter"
   ]
  },
  {
   "cell_type": "code",
   "execution_count": 56,
   "metadata": {},
   "outputs": [
    {
     "name": "stderr",
     "output_type": "stream",
     "text": [
      "c:\\Users\\lucas\\OneDrive\\Área de Trabalho\\Data Science Projects\\credit_scoring_project\\src\\df_cleaning.py:111: FutureWarning: Downcasting behavior in `replace` is deprecated and will be removed in a future version. To retain the old behavior, explicitly call `result.infer_objects(copy=False)`. To opt-in to the future behavior, set `pd.set_option('future.no_silent_downcasting', True)`\n",
      "  df_to_treat['Credit_Score'] = df_to_treat['Credit_Score'].replace({'Good': 0, 'Poor': 1})\n"
     ]
    }
   ],
   "source": [
    "df_transformed = dcl.target_filter(df_transformed)"
   ]
  },
  {
   "cell_type": "code",
   "execution_count": 57,
   "metadata": {},
   "outputs": [
    {
     "data": {
      "text/plain": [
       "Credit_Score\n",
       "Standard    53174\n",
       "Poor        28998\n",
       "Good        17828\n",
       "Name: count, dtype: int64"
      ]
     },
     "execution_count": 57,
     "metadata": {},
     "output_type": "execute_result"
    }
   ],
   "source": [
    "df['Credit_Score'].value_counts()"
   ]
  },
  {
   "cell_type": "code",
   "execution_count": 58,
   "metadata": {},
   "outputs": [
    {
     "data": {
      "text/plain": [
       "target\n",
       "1    28998\n",
       "0    17828\n",
       "Name: count, dtype: int64"
      ]
     },
     "execution_count": 58,
     "metadata": {},
     "output_type": "execute_result"
    }
   ],
   "source": [
    "df_transformed['target'].value_counts()"
   ]
  },
  {
   "cell_type": "code",
   "execution_count": 59,
   "metadata": {},
   "outputs": [
    {
     "name": "stdout",
     "output_type": "stream",
     "text": [
      "Original dataset shape: (100000, 28)\n",
      "Transformed dataset shape: (46826, 28)\n"
     ]
    }
   ],
   "source": [
    "print(f'Original dataset shape:', df.shape)\n",
    "print(f'Transformed dataset shape:', df_transformed.shape)"
   ]
  },
  {
   "cell_type": "markdown",
   "metadata": {},
   "source": [
    "## 3.5) Lower Case"
   ]
  },
  {
   "cell_type": "code",
   "execution_count": 60,
   "metadata": {},
   "outputs": [],
   "source": [
    "df_transformed = dcl.feature_names(df_transformed)"
   ]
  },
  {
   "cell_type": "code",
   "execution_count": 61,
   "metadata": {},
   "outputs": [
    {
     "data": {
      "text/plain": [
       "Index(['ID', 'Customer_ID', 'Month', 'Name', 'Age', 'SSN', 'Occupation',\n",
       "       'Annual_Income', 'Monthly_Inhand_Salary', 'Num_Bank_Accounts',\n",
       "       'Num_Credit_Card', 'Interest_Rate', 'Num_of_Loan', 'Type_of_Loan',\n",
       "       'Delay_from_due_date', 'Num_of_Delayed_Payment', 'Changed_Credit_Limit',\n",
       "       'Num_Credit_Inquiries', 'Credit_Mix', 'Outstanding_Debt',\n",
       "       'Credit_Utilization_Ratio', 'Credit_History_Age',\n",
       "       'Payment_of_Min_Amount', 'Total_EMI_per_month',\n",
       "       'Amount_invested_monthly', 'Payment_Behaviour', 'Monthly_Balance',\n",
       "       'Credit_Score'],\n",
       "      dtype='object')"
      ]
     },
     "execution_count": 61,
     "metadata": {},
     "output_type": "execute_result"
    }
   ],
   "source": [
    "df.columns"
   ]
  },
  {
   "cell_type": "code",
   "execution_count": 62,
   "metadata": {},
   "outputs": [
    {
     "data": {
      "text/plain": [
       "Index(['id', 'customer_id', 'month', 'name', 'age', 'ssn', 'occupation',\n",
       "       'annual_income', 'monthly_inhand_salary', 'num_bank_accounts',\n",
       "       'num_credit_card', 'interest_rate', 'num_of_loan', 'type_of_loan',\n",
       "       'delay_from_due_date', 'num_of_delayed_payment', 'changed_credit_limit',\n",
       "       'num_credit_inquiries', 'credit_mix', 'outstanding_debt',\n",
       "       'credit_utilization_ratio', 'payment_of_min_amount',\n",
       "       'total_emi_per_month', 'amount_invested_monthly', 'payment_behaviour',\n",
       "       'monthly_balance', 'target', 'credit_history_year'],\n",
       "      dtype='object')"
      ]
     },
     "execution_count": 62,
     "metadata": {},
     "output_type": "execute_result"
    }
   ],
   "source": [
    "df_transformed.columns"
   ]
  },
  {
   "cell_type": "markdown",
   "metadata": {},
   "source": [
    "## 3.6) Filling values to NaN"
   ]
  },
  {
   "cell_type": "code",
   "execution_count": 6,
   "metadata": {},
   "outputs": [],
   "source": [
    "df_transformed = pd.read_csv('../data/df_transformed.csv')"
   ]
  },
  {
   "cell_type": "code",
   "execution_count": 7,
   "metadata": {},
   "outputs": [],
   "source": [
    "df_transformed2 = df_transformed.copy()"
   ]
  },
  {
   "cell_type": "code",
   "execution_count": 8,
   "metadata": {},
   "outputs": [],
   "source": [
    "df_transformed2['occupation'] = df_transformed2['occupation'].replace('_______', np.nan)\n",
    "df_transformed2['credit_mix'] = df_transformed2['credit_mix'].replace('_', np.nan)\n",
    "df_transformed2['payment_behaviour'] = df_transformed2['payment_behaviour'].replace('!@9#%8', np.nan)\n",
    "df_transformed2['delay_from_due_date'] = df_transformed2['delay_from_due_date'].apply(lambda x: np.nan if x <= -2 else x)\n",
    "df_transformed2['amount_invested_monthly'] = df_transformed2['amount_invested_monthly'].replace('__10000__', np.nan)"
   ]
  },
  {
   "cell_type": "markdown",
   "metadata": {},
   "source": [
    "# 4) Saving"
   ]
  },
  {
   "cell_type": "code",
   "execution_count": 39,
   "metadata": {},
   "outputs": [],
   "source": [
    "df_transformed.to_csv('../data/df_transformed.csv')"
   ]
  },
  {
   "cell_type": "code",
   "execution_count": 9,
   "metadata": {},
   "outputs": [],
   "source": [
    "df_transformed2.to_csv('../data/df_transformed_new.csv')"
   ]
  }
 ],
 "metadata": {
  "kernelspec": {
   "display_name": "Python 3",
   "language": "python",
   "name": "python3"
  },
  "language_info": {
   "codemirror_mode": {
    "name": "ipython",
    "version": 3
   },
   "file_extension": ".py",
   "mimetype": "text/x-python",
   "name": "python",
   "nbconvert_exporter": "python",
   "pygments_lexer": "ipython3",
   "version": "3.10.9"
  }
 },
 "nbformat": 4,
 "nbformat_minor": 2
}
